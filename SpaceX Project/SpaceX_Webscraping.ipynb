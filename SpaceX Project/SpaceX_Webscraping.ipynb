{
  "cells": [
    {
      "metadata": {
        "id": "T7NLL8jN_2bN"
      },
      "cell_type": "markdown",
      "source": [
        "**Space X  Falcon 9 First Stage Landing Prediction Webscraping**\n"
      ]
    },
    {
      "metadata": {
        "id": "SgM_Rfa1_2bU"
      },
      "cell_type": "markdown",
      "source": [
        "In this project, I will predict if the Falcon 9 first stage will land successfully. In this notebook, I scrape and format data from a Wikipedia page titled 'List of Falcon 9 and Falcon Heavy launches'\n",
        "\n",
        "[https://en.wikipedia.org/wiki/List_of_Falcon\\_9\\_and_Falcon_Heavy_launches](https://en.wikipedia.org/wiki/List_of_Falcon\\_9\\_and_Falcon_Heavy_launches?utm_medium=Exinfluencer&utm_source=Exinfluencer&utm_content=000026UJ&utm_term=10006555&utm_id=NA-SkillsNetwork-Channel-SkillsNetworkCoursesIBMDS0321ENSkillsNetwork26802033-2022-01-01)\n"
      ]
    },
    {
      "metadata": {
        "id": "GyXdmooj_2br"
      },
      "cell_type": "markdown",
      "source": [
        "Importing required packages\n"
      ]
    },
    {
      "metadata": {
        "scrolled": true,
        "colab": {
          "base_uri": "https://localhost:8080/"
        },
        "id": "P2stxmT-_2bt",
        "outputId": "6b543056-530a-4c1e-fa4a-b8d0fe7c9ac7"
      },
      "cell_type": "code",
      "source": [
        "!pip3 install beautifulsoup4\n",
        "!pip3 install requests"
      ],
      "execution_count": null,
      "outputs": [
        {
          "output_type": "stream",
          "name": "stdout",
          "text": [
            "Looking in indexes: https://pypi.org/simple, https://us-python.pkg.dev/colab-wheels/public/simple/\n",
            "Requirement already satisfied: beautifulsoup4 in /usr/local/lib/python3.7/dist-packages (4.6.3)\n",
            "Looking in indexes: https://pypi.org/simple, https://us-python.pkg.dev/colab-wheels/public/simple/\n",
            "Requirement already satisfied: requests in /usr/local/lib/python3.7/dist-packages (2.23.0)\n",
            "Requirement already satisfied: certifi>=2017.4.17 in /usr/local/lib/python3.7/dist-packages (from requests) (2022.6.15)\n",
            "Requirement already satisfied: chardet<4,>=3.0.2 in /usr/local/lib/python3.7/dist-packages (from requests) (3.0.4)\n",
            "Requirement already satisfied: idna<3,>=2.5 in /usr/local/lib/python3.7/dist-packages (from requests) (2.10)\n",
            "Requirement already satisfied: urllib3!=1.25.0,!=1.25.1,<1.26,>=1.21.1 in /usr/local/lib/python3.7/dist-packages (from requests) (1.24.3)\n"
          ]
        }
      ]
    },
    {
      "metadata": {
        "id": "lWwWZwgG_2b0"
      },
      "cell_type": "code",
      "source": [
        "import sys\n",
        "\n",
        "import requests\n",
        "from bs4 import BeautifulSoup\n",
        "import re\n",
        "import unicodedata\n",
        "import pandas as pd"
      ],
      "execution_count": null,
      "outputs": []
    },
    {
      "metadata": {
        "id": "SyMpbDof_2b2"
      },
      "cell_type": "markdown",
      "source": [
        "Creating functions to process web scraped HTML table\n"
      ]
    },
    {
      "metadata": {
        "id": "aTH-A0W8_2b3"
      },
      "cell_type": "code",
      "source": [
        "def date_time(table_cells):\n",
        "    \"\"\"\n",
        "    This function returns the data and time from the HTML  table cell\n",
        "    Input: the  element of a table data cell extracts extra row\n",
        "    \"\"\"\n",
        "    return [data_time.strip() for data_time in list(table_cells.strings)][0:2]\n",
        "\n",
        "def booster_version(table_cells):\n",
        "    \"\"\"\n",
        "    This function returns the booster version from the HTML  table cell \n",
        "    Input: the  element of a table data cell extracts extra row\n",
        "    \"\"\"\n",
        "    out=''.join([booster_version for i,booster_version in enumerate( table_cells.strings) if i%2==0][0:-1])\n",
        "    return out\n",
        "\n",
        "def landing_status(table_cells):\n",
        "    \"\"\"\n",
        "    This function returns the landing status from the HTML table cell \n",
        "    Input: the  element of a table data cell extracts extra row\n",
        "    \"\"\"\n",
        "    out=[i for i in table_cells.strings][0]\n",
        "    return out\n",
        "\n",
        "\n",
        "def get_mass(table_cells):\n",
        "    mass=unicodedata.normalize(\"NFKD\", table_cells.text).strip()\n",
        "    if mass:\n",
        "        mass.find(\"kg\")\n",
        "        new_mass=mass[0:mass.find(\"kg\")+2]\n",
        "    else:\n",
        "        new_mass=0\n",
        "    return new_mass\n",
        "\n",
        "\n",
        "def extract_column_from_header(row):\n",
        "    \"\"\"\n",
        "    This function returns the landing status from the HTML table cell \n",
        "    Input: the  element of a table data cell extracts extra row\n",
        "    \"\"\"\n",
        "    if (row.br):\n",
        "        row.br.extract()\n",
        "    if row.a:\n",
        "        row.a.extract()\n",
        "    if row.sup:\n",
        "        row.sup.extract()\n",
        "        \n",
        "    colunm_name = ' '.join(row.contents)\n",
        "    \n",
        "    # Filter the digit and empty names\n",
        "    if not(colunm_name.strip().isdigit()):\n",
        "        colunm_name = colunm_name.strip()\n",
        "        return colunm_name    \n"
      ],
      "execution_count": null,
      "outputs": []
    },
    {
      "metadata": {
        "id": "sBvv-hgn_2b6"
      },
      "cell_type": "markdown",
      "source": [
        "Scraping the data the Wikipage updated on '9th June 2021'\n"
      ]
    },
    {
      "metadata": {
        "id": "Qt86RdRq_2b8"
      },
      "cell_type": "code",
      "source": [
        "static_url = \"https://en.wikipedia.org/w/index.php?title=List_of_Falcon_9_and_Falcon_Heavy_launches&oldid=1027686922\""
      ],
      "execution_count": null,
      "outputs": []
    },
    {
      "metadata": {
        "id": "qtdcJPbV_2b_"
      },
      "cell_type": "markdown",
      "source": [
        "GET method to request the Falcon9 Launch HTML page as an HTTP response.\n"
      ]
    },
    {
      "metadata": {
        "id": "JREL46uK_2cA"
      },
      "cell_type": "code",
      "source": [
        "response = requests.get(static_url)"
      ],
      "execution_count": null,
      "outputs": []
    },
    {
      "metadata": {
        "id": "RIB_jfCv_2cA"
      },
      "cell_type": "markdown",
      "source": [
        "Creating a BeautifulSoup object from the HTML response\n"
      ]
    },
    {
      "metadata": {
        "id": "Oe4H4WZO_2cB"
      },
      "cell_type": "code",
      "source": [
        "soup = BeautifulSoup(response.text, \"html.parser\")"
      ],
      "execution_count": null,
      "outputs": []
    },
    {
      "metadata": {
        "scrolled": true,
        "colab": {
          "base_uri": "https://localhost:8080/"
        },
        "id": "3do6rTxj_2cC",
        "outputId": "ebf933d7-4811-4107-937e-7d6b4f6536d4"
      },
      "cell_type": "code",
      "source": [
        "# Page title\n",
        "\n",
        "print(soup.title)"
      ],
      "execution_count": null,
      "outputs": [
        {
          "output_type": "stream",
          "name": "stdout",
          "text": [
            "<title>List of Falcon 9 and Falcon Heavy launches - Wikipedia</title>\n"
          ]
        }
      ]
    },
    {
      "metadata": {
        "id": "og4ieVQT_2cD"
      },
      "cell_type": "markdown",
      "source": [
        "Collecting relevant column names from the HTML table header\n"
      ]
    },
    {
      "metadata": {
        "id": "scjPc3iX_2cE"
      },
      "cell_type": "code",
      "source": [
        "# Finding all tables\n",
        "html_tables = soup.find_all('table')"
      ],
      "execution_count": null,
      "outputs": []
    },
    {
      "metadata": {
        "id": "RqhtosJi_2cE"
      },
      "cell_type": "markdown",
      "source": [
        "The third table contains the actual launch records.\n"
      ]
    },
    {
      "metadata": {
        "colab": {
          "base_uri": "https://localhost:8080/"
        },
        "id": "Oy6HkAtj_2cF",
        "outputId": "6d2e1a05-02f4-4698-b2c6-47a42c7cf291"
      },
      "cell_type": "code",
      "source": [
        "# Printing the third table\n",
        "first_launch_table = html_tables[2]\n",
        "print(first_launch_table)"
      ],
      "execution_count": null,
      "outputs": [
        {
          "output_type": "stream",
          "name": "stdout",
          "text": [
            "<table class=\"wikitable plainrowheaders collapsible\" style=\"width: 100%;\">\n",
            "<tbody><tr>\n",
            "<th scope=\"col\">Flight No.\n",
            "</th>\n",
            "<th scope=\"col\">Date and<br/>time (<a href=\"/wiki/Coordinated_Universal_Time\" title=\"Coordinated Universal Time\">UTC</a>)\n",
            "</th>\n",
            "<th scope=\"col\"><a href=\"/wiki/List_of_Falcon_9_first-stage_boosters\" title=\"List of Falcon 9 first-stage boosters\">Version,<br/>Booster</a> <sup class=\"reference\" id=\"cite_ref-booster_11-0\"><a href=\"#cite_note-booster-11\">[b]</a></sup>\n",
            "</th>\n",
            "<th scope=\"col\">Launch site\n",
            "</th>\n",
            "<th scope=\"col\">Payload<sup class=\"reference\" id=\"cite_ref-Dragon_12-0\"><a href=\"#cite_note-Dragon-12\">[c]</a></sup>\n",
            "</th>\n",
            "<th scope=\"col\">Payload mass\n",
            "</th>\n",
            "<th scope=\"col\">Orbit\n",
            "</th>\n",
            "<th scope=\"col\">Customer\n",
            "</th>\n",
            "<th scope=\"col\">Launch<br/>outcome\n",
            "</th>\n",
            "<th scope=\"col\"><a href=\"/wiki/Falcon_9_first-stage_landing_tests\" title=\"Falcon 9 first-stage landing tests\">Booster<br/>landing</a>\n",
            "</th></tr>\n",
            "<tr>\n",
            "<th rowspan=\"2\" scope=\"row\" style=\"text-align:center;\">1\n",
            "</th>\n",
            "<td>4 June 2010,<br/>18:45\n",
            "</td>\n",
            "<td><a href=\"/wiki/Falcon_9_v1.0\" title=\"Falcon 9 v1.0\">F9 v1.0</a><sup class=\"reference\" id=\"cite_ref-MuskMay2012_13-0\"><a href=\"#cite_note-MuskMay2012-13\">[7]</a></sup><br/>B0003.1<sup class=\"reference\" id=\"cite_ref-block_numbers_14-0\"><a href=\"#cite_note-block_numbers-14\">[8]</a></sup>\n",
            "</td>\n",
            "<td><a href=\"/wiki/Cape_Canaveral_Space_Force_Station\" title=\"Cape Canaveral Space Force Station\">CCAFS</a>,<br/><a href=\"/wiki/Cape_Canaveral_Space_Launch_Complex_40\" title=\"Cape Canaveral Space Launch Complex 40\">SLC-40</a>\n",
            "</td>\n",
            "<td><a href=\"/wiki/Dragon_Spacecraft_Qualification_Unit\" title=\"Dragon Spacecraft Qualification Unit\">Dragon Spacecraft Qualification Unit</a>\n",
            "</td>\n",
            "<td>\n",
            "</td>\n",
            "<td><a href=\"/wiki/Low_Earth_orbit\" title=\"Low Earth orbit\">LEO</a>\n",
            "</td>\n",
            "<td><a href=\"/wiki/SpaceX\" title=\"SpaceX\">SpaceX</a>\n",
            "</td>\n",
            "<td class=\"table-success\" style=\"background: #9EFF9E; vertical-align: middle; text-align: center;\">Success\n",
            "</td>\n",
            "<td class=\"table-failure\" style=\"background: #FFC7C7; vertical-align: middle; text-align: center;\">Failure<sup class=\"reference\" id=\"cite_ref-ns20110930_15-0\"><a href=\"#cite_note-ns20110930-15\">[9]</a></sup><sup class=\"reference\" id=\"cite_ref-16\"><a href=\"#cite_note-16\">[10]</a></sup><br/><small>(parachute)</small>\n",
            "</td></tr>\n",
            "<tr>\n",
            "<td colspan=\"9\">First flight of Falcon 9 v1.0.<sup class=\"reference\" id=\"cite_ref-sfn20100604_17-0\"><a href=\"#cite_note-sfn20100604-17\">[11]</a></sup> Used a boilerplate version of Dragon capsule which was not designed to separate from the second stage.<small>(<a href=\"#First_flight_of_Falcon_9\">more details below</a>)</small> Attempted to recover the first stage by parachuting it into the ocean, but it burned up on reentry, before the parachutes even deployed.<sup class=\"reference\" id=\"cite_ref-parachute_18-0\"><a href=\"#cite_note-parachute-18\">[12]</a></sup>\n",
            "</td></tr>\n",
            "<tr>\n",
            "<th rowspan=\"2\" scope=\"row\" style=\"text-align:center;\">2\n",
            "</th>\n",
            "<td>8 December 2010,<br/>15:43<sup class=\"reference\" id=\"cite_ref-spaceflightnow_Clark_Launch_Report_19-0\"><a href=\"#cite_note-spaceflightnow_Clark_Launch_Report-19\">[13]</a></sup>\n",
            "</td>\n",
            "<td><a href=\"/wiki/Falcon_9_v1.0\" title=\"Falcon 9 v1.0\">F9 v1.0</a><sup class=\"reference\" id=\"cite_ref-MuskMay2012_13-1\"><a href=\"#cite_note-MuskMay2012-13\">[7]</a></sup><br/>B0004.1<sup class=\"reference\" id=\"cite_ref-block_numbers_14-1\"><a href=\"#cite_note-block_numbers-14\">[8]</a></sup>\n",
            "</td>\n",
            "<td><a href=\"/wiki/Cape_Canaveral_Space_Force_Station\" title=\"Cape Canaveral Space Force Station\">CCAFS</a>,<br/><a href=\"/wiki/Cape_Canaveral_Space_Launch_Complex_40\" title=\"Cape Canaveral Space Launch Complex 40\">SLC-40</a>\n",
            "</td>\n",
            "<td><a href=\"/wiki/SpaceX_Dragon\" title=\"SpaceX Dragon\">Dragon</a> <a class=\"mw-redirect\" href=\"/wiki/COTS_Demo_Flight_1\" title=\"COTS Demo Flight 1\">demo flight C1</a><br/>(Dragon C101)\n",
            "</td>\n",
            "<td>\n",
            "</td>\n",
            "<td><a href=\"/wiki/Low_Earth_orbit\" title=\"Low Earth orbit\">LEO</a> (<a href=\"/wiki/International_Space_Station\" title=\"International Space Station\">ISS</a>)\n",
            "</td>\n",
            "<td><div class=\"plainlist\">\n",
            "<ul><li><a href=\"/wiki/NASA\" title=\"NASA\">NASA</a> (<a href=\"/wiki/Commercial_Orbital_Transportation_Services\" title=\"Commercial Orbital Transportation Services\">COTS</a>)</li>\n",
            "<li><a href=\"/wiki/National_Reconnaissance_Office\" title=\"National Reconnaissance Office\">NRO</a></li></ul>\n",
            "</div>\n",
            "</td>\n",
            "<td class=\"table-success\" style=\"background: #9EFF9E; vertical-align: middle; text-align: center;\">Success<sup class=\"reference\" id=\"cite_ref-ns20110930_15-1\"><a href=\"#cite_note-ns20110930-15\">[9]</a></sup>\n",
            "</td>\n",
            "<td class=\"table-failure\" style=\"background: #FFC7C7; vertical-align: middle; text-align: center;\">Failure<sup class=\"reference\" id=\"cite_ref-ns20110930_15-2\"><a href=\"#cite_note-ns20110930-15\">[9]</a></sup><sup class=\"reference\" id=\"cite_ref-20\"><a href=\"#cite_note-20\">[14]</a></sup><br/><small>(parachute)</small>\n",
            "</td></tr>\n",
            "<tr>\n",
            "<td colspan=\"9\">Maiden flight of <a class=\"mw-redirect\" href=\"/wiki/Dragon_capsule\" title=\"Dragon capsule\">Dragon capsule</a>, consisting of over 3 hours of testing thruster maneuvering and reentry.<sup class=\"reference\" id=\"cite_ref-spaceflightnow_Clark_unleashing_Dragon_21-0\"><a href=\"#cite_note-spaceflightnow_Clark_unleashing_Dragon-21\">[15]</a></sup> Attempted to recover the first stage by parachuting it into the ocean, but it disintegrated upon reentry, before the parachutes were deployed.<sup class=\"reference\" id=\"cite_ref-parachute_18-1\"><a href=\"#cite_note-parachute-18\">[12]</a></sup> <small>(<a href=\"#COTS_demo_missions\">more details below</a>)</small> It also included two <a href=\"/wiki/CubeSat\" title=\"CubeSat\">CubeSats</a>,<sup class=\"reference\" id=\"cite_ref-NRO_Taps_Boeing_for_Next_Batch_of_CubeSats_22-0\"><a href=\"#cite_note-NRO_Taps_Boeing_for_Next_Batch_of_CubeSats-22\">[16]</a></sup> and a wheel of <a href=\"/wiki/Brou%C3%A8re\" title=\"Brouère\">Brouère</a> cheese.\n",
            "</td></tr>\n",
            "<tr>\n",
            "<th rowspan=\"2\" scope=\"row\" style=\"text-align:center;\">3\n",
            "</th>\n",
            "<td>22 May 2012,<br/>07:44<sup class=\"reference\" id=\"cite_ref-BBC_new_era_23-0\"><a href=\"#cite_note-BBC_new_era-23\">[17]</a></sup>\n",
            "</td>\n",
            "<td><a href=\"/wiki/Falcon_9_v1.0\" title=\"Falcon 9 v1.0\">F9 v1.0</a><sup class=\"reference\" id=\"cite_ref-MuskMay2012_13-2\"><a href=\"#cite_note-MuskMay2012-13\">[7]</a></sup><br/>B0005.1<sup class=\"reference\" id=\"cite_ref-block_numbers_14-2\"><a href=\"#cite_note-block_numbers-14\">[8]</a></sup>\n",
            "</td>\n",
            "<td><a href=\"/wiki/Cape_Canaveral_Space_Force_Station\" title=\"Cape Canaveral Space Force Station\">CCAFS</a>,<br/><a href=\"/wiki/Cape_Canaveral_Space_Launch_Complex_40\" title=\"Cape Canaveral Space Launch Complex 40\">SLC-40</a>\n",
            "</td>\n",
            "<td><a href=\"/wiki/SpaceX_Dragon\" title=\"SpaceX Dragon\">Dragon</a> <a class=\"mw-redirect\" href=\"/wiki/Dragon_C2%2B\" title=\"Dragon C2+\">demo flight C2+</a><sup class=\"reference\" id=\"cite_ref-C2_24-0\"><a href=\"#cite_note-C2-24\">[18]</a></sup><br/>(Dragon C102)\n",
            "</td>\n",
            "<td>525 kg (1,157 lb)<sup class=\"reference\" id=\"cite_ref-25\"><a href=\"#cite_note-25\">[19]</a></sup>\n",
            "</td>\n",
            "<td><a href=\"/wiki/Low_Earth_orbit\" title=\"Low Earth orbit\">LEO</a> (<a href=\"/wiki/International_Space_Station\" title=\"International Space Station\">ISS</a>)\n",
            "</td>\n",
            "<td><a href=\"/wiki/NASA\" title=\"NASA\">NASA</a> (<a href=\"/wiki/Commercial_Orbital_Transportation_Services\" title=\"Commercial Orbital Transportation Services\">COTS</a>)\n",
            "</td>\n",
            "<td class=\"table-success\" style=\"background: #9EFF9E; vertical-align: middle; text-align: center;\">Success<sup class=\"reference\" id=\"cite_ref-26\"><a href=\"#cite_note-26\">[20]</a></sup>\n",
            "</td>\n",
            "<td class=\"table-noAttempt\" style=\"background: #EEE; vertical-align: middle; white-space: nowrap; text-align: center;\">No attempt\n",
            "</td></tr>\n",
            "<tr>\n",
            "<td colspan=\"9\">Dragon spacecraft demonstrated a series of tests before it was allowed to approach the <a href=\"/wiki/International_Space_Station\" title=\"International Space Station\">International Space Station</a>. Two days later, it became the first commercial spacecraft to board the ISS.<sup class=\"reference\" id=\"cite_ref-BBC_new_era_23-1\"><a href=\"#cite_note-BBC_new_era-23\">[17]</a></sup> <small>(<a href=\"#COTS_demo_missions\">more details below</a>)</small>\n",
            "</td></tr>\n",
            "<tr>\n",
            "<th rowspan=\"3\" scope=\"row\" style=\"text-align:center;\">4\n",
            "</th>\n",
            "<td rowspan=\"2\">8 October 2012,<br/>00:35<sup class=\"reference\" id=\"cite_ref-SFN_LLog_27-0\"><a href=\"#cite_note-SFN_LLog-27\">[21]</a></sup>\n",
            "</td>\n",
            "<td rowspan=\"2\"><a href=\"/wiki/Falcon_9_v1.0\" title=\"Falcon 9 v1.0\">F9 v1.0</a><sup class=\"reference\" id=\"cite_ref-MuskMay2012_13-3\"><a href=\"#cite_note-MuskMay2012-13\">[7]</a></sup><br/>B0006.1<sup class=\"reference\" id=\"cite_ref-block_numbers_14-3\"><a href=\"#cite_note-block_numbers-14\">[8]</a></sup>\n",
            "</td>\n",
            "<td rowspan=\"2\"><a href=\"/wiki/Cape_Canaveral_Space_Force_Station\" title=\"Cape Canaveral Space Force Station\">CCAFS</a>,<br/><a href=\"/wiki/Cape_Canaveral_Space_Launch_Complex_40\" title=\"Cape Canaveral Space Launch Complex 40\">SLC-40</a>\n",
            "</td>\n",
            "<td><a href=\"/wiki/SpaceX_CRS-1\" title=\"SpaceX CRS-1\">SpaceX CRS-1</a><sup class=\"reference\" id=\"cite_ref-sxManifest20120925_28-0\"><a href=\"#cite_note-sxManifest20120925-28\">[22]</a></sup><br/>(Dragon C103)\n",
            "</td>\n",
            "<td>4,700 kg (10,400 lb)\n",
            "</td>\n",
            "<td><a href=\"/wiki/Low_Earth_orbit\" title=\"Low Earth orbit\">LEO</a> (<a href=\"/wiki/International_Space_Station\" title=\"International Space Station\">ISS</a>)\n",
            "</td>\n",
            "<td><a href=\"/wiki/NASA\" title=\"NASA\">NASA</a> (<a href=\"/wiki/Commercial_Resupply_Services\" title=\"Commercial Resupply Services\">CRS</a>)\n",
            "</td>\n",
            "<td class=\"table-success\" style=\"background: #9EFF9E; vertical-align: middle; text-align: center;\">Success\n",
            "</td>\n",
            "<td rowspan=\"2\" style=\"background:#ececec; text-align:center;\"><span class=\"nowrap\">No attempt</span>\n",
            "</td></tr>\n",
            "<tr>\n",
            "<td><a href=\"/wiki/Orbcomm_(satellite)\" title=\"Orbcomm (satellite)\">Orbcomm-OG2</a><sup class=\"reference\" id=\"cite_ref-Orbcomm_29-0\"><a href=\"#cite_note-Orbcomm-29\">[23]</a></sup>\n",
            "</td>\n",
            "<td>172 kg (379 lb)<sup class=\"reference\" id=\"cite_ref-gunter-og2_30-0\"><a href=\"#cite_note-gunter-og2-30\">[24]</a></sup>\n",
            "</td>\n",
            "<td><a href=\"/wiki/Low_Earth_orbit\" title=\"Low Earth orbit\">LEO</a>\n",
            "</td>\n",
            "<td><a href=\"/wiki/Orbcomm\" title=\"Orbcomm\">Orbcomm</a>\n",
            "</td>\n",
            "<td class=\"table-partial\" style=\"background: #FE9; vertical-align: middle; text-align: center;\">Partial failure<sup class=\"reference\" id=\"cite_ref-nyt-20121030_31-0\"><a href=\"#cite_note-nyt-20121030-31\">[25]</a></sup>\n",
            "</td></tr>\n",
            "<tr>\n",
            "<td colspan=\"9\">CRS-1 was successful, but the <a href=\"/wiki/Secondary_payload\" title=\"Secondary payload\">secondary payload</a> was inserted into an abnormally low orbit and subsequently lost. This was due to one of the nine <a href=\"/wiki/SpaceX_Merlin\" title=\"SpaceX Merlin\">Merlin engines</a> shutting down during the launch, and NASA declining a second reignition, as per <a href=\"/wiki/International_Space_Station\" title=\"International Space Station\">ISS</a> visiting vehicle safety rules, the primary payload owner is contractually allowed to decline a second reignition. NASA stated that this was because SpaceX could not guarantee a high enough likelihood of the second stage completing the second burn successfully which was required to avoid any risk of secondary payload's collision with the ISS.<sup class=\"reference\" id=\"cite_ref-OrbcommTotalLoss_32-0\"><a href=\"#cite_note-OrbcommTotalLoss-32\">[26]</a></sup><sup class=\"reference\" id=\"cite_ref-sn20121011_33-0\"><a href=\"#cite_note-sn20121011-33\">[27]</a></sup><sup class=\"reference\" id=\"cite_ref-34\"><a href=\"#cite_note-34\">[28]</a></sup>\n",
            "</td></tr>\n",
            "<tr>\n",
            "<th rowspan=\"2\" scope=\"row\" style=\"text-align:center;\">5\n",
            "</th>\n",
            "<td>1 March 2013,<br/>15:10\n",
            "</td>\n",
            "<td><a href=\"/wiki/Falcon_9_v1.0\" title=\"Falcon 9 v1.0\">F9 v1.0</a><sup class=\"reference\" id=\"cite_ref-MuskMay2012_13-4\"><a href=\"#cite_note-MuskMay2012-13\">[7]</a></sup><br/>B0007.1<sup class=\"reference\" id=\"cite_ref-block_numbers_14-4\"><a href=\"#cite_note-block_numbers-14\">[8]</a></sup>\n",
            "</td>\n",
            "<td><a href=\"/wiki/Cape_Canaveral_Space_Force_Station\" title=\"Cape Canaveral Space Force Station\">CCAFS</a>,<br/><a href=\"/wiki/Cape_Canaveral_Space_Launch_Complex_40\" title=\"Cape Canaveral Space Launch Complex 40\">SLC-40</a>\n",
            "</td>\n",
            "<td><a href=\"/wiki/SpaceX_CRS-2\" title=\"SpaceX CRS-2\">SpaceX CRS-2</a><sup class=\"reference\" id=\"cite_ref-sxManifest20120925_28-1\"><a href=\"#cite_note-sxManifest20120925-28\">[22]</a></sup><br/>(Dragon C104)\n",
            "</td>\n",
            "<td>4,877 kg (10,752 lb)\n",
            "</td>\n",
            "<td><a href=\"/wiki/Low_Earth_orbit\" title=\"Low Earth orbit\">LEO</a> (<a class=\"mw-redirect\" href=\"/wiki/ISS\" title=\"ISS\">ISS</a>)\n",
            "</td>\n",
            "<td><a href=\"/wiki/NASA\" title=\"NASA\">NASA</a> (<a href=\"/wiki/Commercial_Resupply_Services\" title=\"Commercial Resupply Services\">CRS</a>)\n",
            "</td>\n",
            "<td class=\"table-success\" style=\"background: #9EFF9E; vertical-align: middle; text-align: center;\">Success\n",
            "</td>\n",
            "<td class=\"table-noAttempt\" style=\"background: #EEE; vertical-align: middle; white-space: nowrap; text-align: center;\">No attempt\n",
            "</td></tr>\n",
            "<tr>\n",
            "<td colspan=\"9\">Last launch of the original Falcon 9 v1.0 <a href=\"/wiki/Launch_vehicle\" title=\"Launch vehicle\">launch vehicle</a>, first use of the unpressurized trunk section of Dragon.<sup class=\"reference\" id=\"cite_ref-sxf9_20110321_35-0\"><a href=\"#cite_note-sxf9_20110321-35\">[29]</a></sup>\n",
            "</td></tr>\n",
            "<tr>\n",
            "<th rowspan=\"2\" scope=\"row\" style=\"text-align:center;\">6\n",
            "</th>\n",
            "<td>29 September 2013,<br/>16:00<sup class=\"reference\" id=\"cite_ref-pa20130930_36-0\"><a href=\"#cite_note-pa20130930-36\">[30]</a></sup>\n",
            "</td>\n",
            "<td><a href=\"/wiki/Falcon_9_v1.1\" title=\"Falcon 9 v1.1\">F9 v1.1</a><sup class=\"reference\" id=\"cite_ref-MuskMay2012_13-5\"><a href=\"#cite_note-MuskMay2012-13\">[7]</a></sup><br/>B1003<sup class=\"reference\" id=\"cite_ref-block_numbers_14-5\"><a href=\"#cite_note-block_numbers-14\">[8]</a></sup>\n",
            "</td>\n",
            "<td><a class=\"mw-redirect\" href=\"/wiki/Vandenberg_Air_Force_Base\" title=\"Vandenberg Air Force Base\">VAFB</a>,<br/><a href=\"/wiki/Vandenberg_Space_Launch_Complex_4\" title=\"Vandenberg Space Launch Complex 4\">SLC-4E</a>\n",
            "</td>\n",
            "<td><a href=\"/wiki/CASSIOPE\" title=\"CASSIOPE\">CASSIOPE</a><sup class=\"reference\" id=\"cite_ref-sxManifest20120925_28-2\"><a href=\"#cite_note-sxManifest20120925-28\">[22]</a></sup><sup class=\"reference\" id=\"cite_ref-CASSIOPE_MDA_37-0\"><a href=\"#cite_note-CASSIOPE_MDA-37\">[31]</a></sup>\n",
            "</td>\n",
            "<td>500 kg (1,100 lb)\n",
            "</td>\n",
            "<td><a href=\"/wiki/Polar_orbit\" title=\"Polar orbit\">Polar orbit</a> <a href=\"/wiki/Low_Earth_orbit\" title=\"Low Earth orbit\">LEO</a>\n",
            "</td>\n",
            "<td><a href=\"/wiki/Maxar_Technologies\" title=\"Maxar Technologies\">MDA</a>\n",
            "</td>\n",
            "<td class=\"table-success\" style=\"background: #9EFF9E; vertical-align: middle; text-align: center;\">Success<sup class=\"reference\" id=\"cite_ref-pa20130930_36-1\"><a href=\"#cite_note-pa20130930-36\">[30]</a></sup>\n",
            "</td>\n",
            "<td class=\"table-no2\" style=\"background: #FFE3E3; color: black; vertical-align: middle; text-align: center;\">Uncontrolled<br/><small>(ocean)</small><sup class=\"reference\" id=\"cite_ref-ocean_landing_38-0\"><a href=\"#cite_note-ocean_landing-38\">[d]</a></sup>\n",
            "</td></tr>\n",
            "<tr>\n",
            "<td colspan=\"9\">First commercial mission with a private customer, first launch from Vandenberg, and demonstration flight of Falcon 9 v1.1 with an improved 13-tonne to LEO capacity.<sup class=\"reference\" id=\"cite_ref-sxf9_20110321_35-1\"><a href=\"#cite_note-sxf9_20110321-35\">[29]</a></sup> After separation from the second stage carrying Canadian commercial and scientific satellites, the first stage booster performed a controlled reentry,<sup class=\"reference\" id=\"cite_ref-39\"><a href=\"#cite_note-39\">[32]</a></sup> and an <a href=\"/wiki/Falcon_9_first-stage_landing_tests\" title=\"Falcon 9 first-stage landing tests\">ocean touchdown test</a> for the first time. This provided good test data, even though the booster started rolling as it neared the ocean, leading to the shutdown of the central engine as the roll depleted it of fuel, resulting in a hard impact with the ocean.<sup class=\"reference\" id=\"cite_ref-pa20130930_36-2\"><a href=\"#cite_note-pa20130930-36\">[30]</a></sup> This was the first known attempt of a rocket engine being lit to perform a supersonic retro propulsion, and allowed SpaceX to enter a public-private partnership with <a href=\"/wiki/NASA\" title=\"NASA\">NASA</a> and its Mars entry, descent, and landing technologies research projects.<sup class=\"reference\" id=\"cite_ref-40\"><a href=\"#cite_note-40\">[33]</a></sup> <small>(<a href=\"#Maiden_flight_of_v1.1\">more details below</a>)</small>\n",
            "</td></tr>\n",
            "<tr>\n",
            "<th rowspan=\"2\" scope=\"row\" style=\"text-align:center;\">7\n",
            "</th>\n",
            "<td>3 December 2013,<br/>22:41<sup class=\"reference\" id=\"cite_ref-sfn_wwls20130624_41-0\"><a href=\"#cite_note-sfn_wwls20130624-41\">[34]</a></sup>\n",
            "</td>\n",
            "<td><a href=\"/wiki/Falcon_9_v1.1\" title=\"Falcon 9 v1.1\">F9 v1.1</a><br/>B1004\n",
            "</td>\n",
            "<td><a href=\"/wiki/Cape_Canaveral_Space_Force_Station\" title=\"Cape Canaveral Space Force Station\">CCAFS</a>,<br/><a href=\"/wiki/Cape_Canaveral_Space_Launch_Complex_40\" title=\"Cape Canaveral Space Launch Complex 40\">SLC-40</a>\n",
            "</td>\n",
            "<td><a href=\"/wiki/SES-8\" title=\"SES-8\">SES-8</a><sup class=\"reference\" id=\"cite_ref-sxManifest20120925_28-3\"><a href=\"#cite_note-sxManifest20120925-28\">[22]</a></sup><sup class=\"reference\" id=\"cite_ref-spx-pr_42-0\"><a href=\"#cite_note-spx-pr-42\">[35]</a></sup><sup class=\"reference\" id=\"cite_ref-aw20110323_43-0\"><a href=\"#cite_note-aw20110323-43\">[36]</a></sup>\n",
            "</td>\n",
            "<td>3,170 kg (6,990 lb)\n",
            "</td>\n",
            "<td><a href=\"/wiki/Geostationary_transfer_orbit\" title=\"Geostationary transfer orbit\">GTO</a>\n",
            "</td>\n",
            "<td><a href=\"/wiki/SES_S.A.\" title=\"SES S.A.\">SES</a>\n",
            "</td>\n",
            "<td class=\"table-success\" style=\"background: #9EFF9E; vertical-align: middle; text-align: center;\">Success<sup class=\"reference\" id=\"cite_ref-SNMissionStatus7_44-0\"><a href=\"#cite_note-SNMissionStatus7-44\">[37]</a></sup>\n",
            "</td>\n",
            "<td class=\"table-noAttempt\" style=\"background: #EEE; vertical-align: middle; white-space: nowrap; text-align: center;\">No attempt<br/><sup class=\"reference\" id=\"cite_ref-sf10120131203_45-0\"><a href=\"#cite_note-sf10120131203-45\">[38]</a></sup>\n",
            "</td></tr>\n",
            "<tr>\n",
            "<td colspan=\"9\">First <a href=\"/wiki/Geostationary_transfer_orbit\" title=\"Geostationary transfer orbit\">Geostationary transfer orbit</a> (GTO) launch for Falcon 9,<sup class=\"reference\" id=\"cite_ref-spx-pr_42-1\"><a href=\"#cite_note-spx-pr-42\">[35]</a></sup> and first successful reignition of the second stage.<sup class=\"reference\" id=\"cite_ref-46\"><a href=\"#cite_note-46\">[39]</a></sup> SES-8 was inserted into a <a href=\"/wiki/Geostationary_transfer_orbit\" title=\"Geostationary transfer orbit\">Super-Synchronous Transfer Orbit</a> of 79,341 km (49,300 mi) in apogee with an <a href=\"/wiki/Orbital_inclination\" title=\"Orbital inclination\">inclination</a> of 20.55° to the <a href=\"/wiki/Equator\" title=\"Equator\">equator</a>.\n",
            "</td></tr></tbody></table>\n"
          ]
        }
      ]
    },
    {
      "metadata": {
        "id": "Jt7EbZCk_2cG"
      },
      "cell_type": "markdown",
      "source": [
        "Extracting column names by iterating through `<th>` elements"
      ]
    },
    {
      "metadata": {
        "id": "5-S9jBz5_2cH"
      },
      "cell_type": "code",
      "source": [
        "column_names = []\n",
        "\n",
        "cells = first_launch_table.find_all('th')\n",
        "for i, cell in enumerate(cells): ##iterating through each column\n",
        "    name=extract_column_from_header(cell)\n",
        "    if name is not None and len(name)>0:\n",
        "        column_names.append(name)\n",
        "\n"
      ],
      "execution_count": null,
      "outputs": []
    },
    {
      "metadata": {
        "colab": {
          "base_uri": "https://localhost:8080/"
        },
        "id": "GdLX5rTt_2cI",
        "outputId": "33b02233-fcb2-4e0f-fba4-b266e4af8c45"
      },
      "cell_type": "code",
      "source": [
        "print(column_names)"
      ],
      "execution_count": null,
      "outputs": [
        {
          "output_type": "stream",
          "name": "stdout",
          "text": [
            "['Flight No.', 'Date and time ( )', 'Launch site', 'Payload', 'Payload mass', 'Orbit', 'Customer', 'Launch outcome']\n"
          ]
        }
      ]
    },
    {
      "metadata": {
        "id": "xgzSia3T_2cI"
      },
      "cell_type": "markdown",
      "source": [
        "Creating an empty dictionary with keys from the extracted column names\n"
      ]
    },
    {
      "metadata": {
        "id": "ZFU8dA4k_2cJ"
      },
      "cell_type": "code",
      "source": [
        "launch_dict= dict.fromkeys(column_names)\n",
        "\n",
        "# Removing irrelvant column\n",
        "del launch_dict['Date and time ( )']\n",
        "\n",
        "# Creating an empty list for each variable\n",
        "launch_dict['Flight No.'] = []\n",
        "launch_dict['Launch site'] = []\n",
        "launch_dict['Payload'] = []\n",
        "launch_dict['Payload mass'] = []\n",
        "launch_dict['Orbit'] = []\n",
        "launch_dict['Customer'] = []\n",
        "launch_dict['Launch outcome'] = []\n",
        "# Creating new columns\n",
        "launch_dict['Version Booster']=[]\n",
        "launch_dict['Booster landing']=[]\n",
        "launch_dict['Date']=[]\n",
        "launch_dict['Time']=[]"
      ],
      "execution_count": null,
      "outputs": []
    },
    {
      "metadata": {
        "id": "65mc3Dkm_2cJ"
      },
      "cell_type": "markdown",
      "source": [
        "Filling the dictionary with launch records extracted from table rows.\n"
      ]
    },
    {
      "metadata": {
        "colab": {
          "base_uri": "https://localhost:8080/"
        },
        "id": "wLYpG7XX_2cK",
        "outputId": "477905d8-f469-4e20-ec9a-405bdbba2cd7"
      },
      "cell_type": "code",
      "source": [
        "extracted_row = 0\n",
        "#Extracting each table \n",
        "for table_number,table in enumerate(soup.find_all('table',\"wikitable plainrowheaders collapsible\")):\n",
        "   # Getting table row \n",
        "    for rows in table.find_all(\"tr\"):\n",
        "        if rows.th:\n",
        "            if rows.th.string:\n",
        "                flight_number=rows.th.string.strip()\n",
        "                flag=flight_number.isdigit()\n",
        "        else:\n",
        "            flag=False\n",
        "        #Getting table element \n",
        "        row=rows.find_all('td')\n",
        "        #if it is number save cells in a dictonary \n",
        "        if flag:\n",
        "            extracted_row += 1\n",
        "            # Flight Number value\n",
        "            launch_dict['Flight No.'].append(flight_number)\n",
        "            \n",
        "            #print(flight_number)\n",
        "            datatimelist=date_time(row[0])\n",
        "            \n",
        "            # Date value\n",
        "            date = datatimelist[0].strip(',')\n",
        "            launch_dict['Date'].append(date)\n",
        "            #print(date)\n",
        "            \n",
        "            # Time value\n",
        "            time = datatimelist[1]\n",
        "            launch_dict['Time'].append(time)\n",
        "            #print(time)\n",
        "              \n",
        "            # Booster version\n",
        "            bv=booster_version(row[1])\n",
        "            if not(bv):\n",
        "                bv=row[1].a.string\n",
        "            print(bv)\n",
        "            launch_dict['Version Booster'].append(bv)\n",
        "            \n",
        "            # Launch Site\n",
        "            launch_site = row[2].a.string\n",
        "            #print(launch_site)\n",
        "            launch_dict['Launch site'].append(launch_site)\n",
        "            \n",
        "            # Payload\n",
        "            payload = row[3].a.string\n",
        "            #print(payload)\n",
        "            launch_dict['Payload'].append(payload)\n",
        "            \n",
        "            # Payload Mass\n",
        "            payload_mass = get_mass(row[4])\n",
        "            #print(payload)\n",
        "            launch_dict['Payload mass'].append(payload_mass)\n",
        "            \n",
        "            # Orbit\n",
        "            orbit = row[5].a.string\n",
        "            #print(orbit)\n",
        "            launch_dict['Orbit'].append(orbit)\n",
        "            \n",
        "            # Customer\n",
        "            if(row[6].a is not None):\n",
        "                customer = row[6].a.string\n",
        "            else: \n",
        "                customer = \"various\"\n",
        "            #print(customer)\n",
        "            launch_dict['Customer'].append(customer)\n",
        "            \n",
        "            # Launch outcome\n",
        "            launch_outcome = list(row[7].strings)[0]\n",
        "            #print(launch_outcome)\n",
        "            launch_dict['Launch outcome'].append(launch_outcome)\n",
        "            \n",
        "            # Booster landing\n",
        "            booster_landing = landing_status(row[8])\n",
        "            #print(booster_landing)\n",
        "            launch_dict['Booster landing'].append(booster_landing)\n",
        "            "
      ],
      "execution_count": null,
      "outputs": [
        {
          "output_type": "stream",
          "name": "stdout",
          "text": [
            "F9 v1.0B0003.1\n",
            "F9 v1.0B0004.1\n",
            "F9 v1.0B0005.1\n",
            "F9 v1.0B0006.1\n",
            "F9 v1.0B0007.1\n",
            "F9 v1.1B1003\n",
            "F9 v1.1\n",
            "F9 v1.1\n",
            "F9 v1.1\n",
            "F9 v1.1\n",
            "F9 v1.1\n",
            "F9 v1.1\n",
            "F9 v1.1\n",
            "F9 v1.1\n",
            "F9 v1.1\n",
            "F9 v1.1\n",
            "F9 v1.1\n",
            "F9 v1.1\n",
            "F9 v1.1\n",
            "F9 FT\n",
            "F9 v1.1\n",
            "F9 FT\n",
            "F9 FT\n",
            "F9 FT\n",
            "F9 FT\n",
            "F9 FT\n",
            "F9 FT\n",
            "F9 FT\n",
            "F9 FT\n",
            "F9 FT\n",
            "F9 FT\n",
            "F9 FT♺\n",
            "F9 FT\n",
            "F9 FT\n",
            "F9 FT\n",
            "F9 FTB1029.2\n",
            "F9 FT\n",
            "F9 FT\n",
            "F9 B4\n",
            "F9 FT\n",
            "F9 B4\n",
            "F9 B4\n",
            "F9 FTB1031.2\n",
            "F9 B4\n",
            "F9 FTB1035.2\n",
            "F9 FTB1036.2\n",
            "F9 B4\n",
            "F9 FTB1032.2\n",
            "F9 FTB1038.2\n",
            "F9 B4\n",
            "F9 B4B1041.2\n",
            "F9 B4B1039.2\n",
            "F9 B4\n",
            "F9 B5B1046.1\n",
            "F9 B4B1043.2\n",
            "F9 B4B1040.2\n",
            "F9 B4B1045.2\n",
            "F9 B5\n",
            "F9 B5B1048\n",
            "F9 B5B1046.2\n",
            "F9 B5\n",
            "F9 B5B1048.2\n",
            "F9 B5B1047.2\n",
            "F9 B5B1046.3\n",
            "F9 B5\n",
            "F9 B5\n",
            "F9 B5B1049.2\n",
            "F9 B5B1048.3\n",
            "F9 B5[268]\n",
            "F9 B5\n",
            "F9 B5B1049.3\n",
            "F9 B5B1051.2\n",
            "F9 B5B1056.2\n",
            "F9 B5B1047.3\n",
            "F9 B5\n",
            "F9 B5\n",
            "F9 B5B1056.3\n",
            "F9 B5\n",
            "F9 B5\n",
            "F9 B5\n",
            "F9 B5\n",
            "F9 B5\n",
            "F9 B5\n",
            "F9 B5\n",
            "F9 B5\n",
            "F9 B5\n",
            "F9 B5\n",
            "F9 B5\n",
            "F9 B5B1058.2\n",
            "F9 B5\n",
            "F9 B5B1049.6\n",
            "F9 B5\n",
            "F9 B5B1060.2\n",
            "F9 B5B1058.3\n",
            "F9 B5B1051.6\n",
            "F9 B5\n",
            "F9 B5\n",
            "F9 B5\n",
            "F9 B5\n",
            "F9 B5 ♺\n",
            "F9 B5 ♺\n",
            "F9 B5 ♺\n",
            "F9 B5 ♺\n",
            "F9 B5\n",
            "F9 B5B1051.8\n",
            "F9 B5B1058.5\n",
            "F9 B5 ♺\n",
            "F9 B5 ♺\n",
            "F9 B5 ♺\n",
            "F9 B5 ♺\n",
            "F9 B5 ♺\n",
            "F9 B5B1060.6\n",
            "F9 B5 ♺\n",
            "F9 B5B1061.2\n",
            "F9 B5B1060.7\n",
            "F9 B5B1049.9\n",
            "F9 B5B1051.10\n",
            "F9 B5B1058.8\n",
            "F9 B5B1063.2\n",
            "F9 B5B1067.1\n",
            "F9 B5\n"
          ]
        }
      ]
    },
    {
      "metadata": {
        "colab": {
          "base_uri": "https://localhost:8080/",
          "height": 206
        },
        "id": "qI02nWCm_2cM",
        "outputId": "5f2ff323-2829-47c3-fdde-e79535515eeb"
      },
      "cell_type": "code",
      "source": [
        "# Creating a pandas dataframe\n",
        "df=pd.DataFrame(launch_dict)\n",
        "\n",
        "df.head()"
      ],
      "execution_count": null,
      "outputs": [
        {
          "output_type": "execute_result",
          "data": {
            "text/plain": [
              "  Flight No. Launch site                               Payload Payload mass  \\\n",
              "0          1       CCAFS  Dragon Spacecraft Qualification Unit            0   \n",
              "1          2       CCAFS                                Dragon            0   \n",
              "2          3       CCAFS                                Dragon       525 kg   \n",
              "3          4       CCAFS                          SpaceX CRS-1     4,700 kg   \n",
              "4          5       CCAFS                          SpaceX CRS-2     4,877 kg   \n",
              "\n",
              "  Orbit Customer Launch outcome Version Booster Booster landing  \\\n",
              "0   LEO   SpaceX      Success\\n  F9 v1.0B0003.1         Failure   \n",
              "1   LEO     NASA        Success  F9 v1.0B0004.1         Failure   \n",
              "2   LEO     NASA        Success  F9 v1.0B0005.1    No attempt\\n   \n",
              "3   LEO     NASA      Success\\n  F9 v1.0B0006.1      No attempt   \n",
              "4   LEO     NASA      Success\\n  F9 v1.0B0007.1    No attempt\\n   \n",
              "\n",
              "              Date   Time  \n",
              "0      4 June 2010  18:45  \n",
              "1  8 December 2010  15:43  \n",
              "2      22 May 2012  07:44  \n",
              "3   8 October 2012  00:35  \n",
              "4     1 March 2013  15:10  "
            ],
            "text/html": [
              "\n",
              "  <div id=\"df-2c2dcf67-094f-4c7e-8647-7f923e85b245\">\n",
              "    <div class=\"colab-df-container\">\n",
              "      <div>\n",
              "<style scoped>\n",
              "    .dataframe tbody tr th:only-of-type {\n",
              "        vertical-align: middle;\n",
              "    }\n",
              "\n",
              "    .dataframe tbody tr th {\n",
              "        vertical-align: top;\n",
              "    }\n",
              "\n",
              "    .dataframe thead th {\n",
              "        text-align: right;\n",
              "    }\n",
              "</style>\n",
              "<table border=\"1\" class=\"dataframe\">\n",
              "  <thead>\n",
              "    <tr style=\"text-align: right;\">\n",
              "      <th></th>\n",
              "      <th>Flight No.</th>\n",
              "      <th>Launch site</th>\n",
              "      <th>Payload</th>\n",
              "      <th>Payload mass</th>\n",
              "      <th>Orbit</th>\n",
              "      <th>Customer</th>\n",
              "      <th>Launch outcome</th>\n",
              "      <th>Version Booster</th>\n",
              "      <th>Booster landing</th>\n",
              "      <th>Date</th>\n",
              "      <th>Time</th>\n",
              "    </tr>\n",
              "  </thead>\n",
              "  <tbody>\n",
              "    <tr>\n",
              "      <th>0</th>\n",
              "      <td>1</td>\n",
              "      <td>CCAFS</td>\n",
              "      <td>Dragon Spacecraft Qualification Unit</td>\n",
              "      <td>0</td>\n",
              "      <td>LEO</td>\n",
              "      <td>SpaceX</td>\n",
              "      <td>Success\\n</td>\n",
              "      <td>F9 v1.0B0003.1</td>\n",
              "      <td>Failure</td>\n",
              "      <td>4 June 2010</td>\n",
              "      <td>18:45</td>\n",
              "    </tr>\n",
              "    <tr>\n",
              "      <th>1</th>\n",
              "      <td>2</td>\n",
              "      <td>CCAFS</td>\n",
              "      <td>Dragon</td>\n",
              "      <td>0</td>\n",
              "      <td>LEO</td>\n",
              "      <td>NASA</td>\n",
              "      <td>Success</td>\n",
              "      <td>F9 v1.0B0004.1</td>\n",
              "      <td>Failure</td>\n",
              "      <td>8 December 2010</td>\n",
              "      <td>15:43</td>\n",
              "    </tr>\n",
              "    <tr>\n",
              "      <th>2</th>\n",
              "      <td>3</td>\n",
              "      <td>CCAFS</td>\n",
              "      <td>Dragon</td>\n",
              "      <td>525 kg</td>\n",
              "      <td>LEO</td>\n",
              "      <td>NASA</td>\n",
              "      <td>Success</td>\n",
              "      <td>F9 v1.0B0005.1</td>\n",
              "      <td>No attempt\\n</td>\n",
              "      <td>22 May 2012</td>\n",
              "      <td>07:44</td>\n",
              "    </tr>\n",
              "    <tr>\n",
              "      <th>3</th>\n",
              "      <td>4</td>\n",
              "      <td>CCAFS</td>\n",
              "      <td>SpaceX CRS-1</td>\n",
              "      <td>4,700 kg</td>\n",
              "      <td>LEO</td>\n",
              "      <td>NASA</td>\n",
              "      <td>Success\\n</td>\n",
              "      <td>F9 v1.0B0006.1</td>\n",
              "      <td>No attempt</td>\n",
              "      <td>8 October 2012</td>\n",
              "      <td>00:35</td>\n",
              "    </tr>\n",
              "    <tr>\n",
              "      <th>4</th>\n",
              "      <td>5</td>\n",
              "      <td>CCAFS</td>\n",
              "      <td>SpaceX CRS-2</td>\n",
              "      <td>4,877 kg</td>\n",
              "      <td>LEO</td>\n",
              "      <td>NASA</td>\n",
              "      <td>Success\\n</td>\n",
              "      <td>F9 v1.0B0007.1</td>\n",
              "      <td>No attempt\\n</td>\n",
              "      <td>1 March 2013</td>\n",
              "      <td>15:10</td>\n",
              "    </tr>\n",
              "  </tbody>\n",
              "</table>\n",
              "</div>\n",
              "      <button class=\"colab-df-convert\" onclick=\"convertToInteractive('df-2c2dcf67-094f-4c7e-8647-7f923e85b245')\"\n",
              "              title=\"Convert this dataframe to an interactive table.\"\n",
              "              style=\"display:none;\">\n",
              "        \n",
              "  <svg xmlns=\"http://www.w3.org/2000/svg\" height=\"24px\"viewBox=\"0 0 24 24\"\n",
              "       width=\"24px\">\n",
              "    <path d=\"M0 0h24v24H0V0z\" fill=\"none\"/>\n",
              "    <path d=\"M18.56 5.44l.94 2.06.94-2.06 2.06-.94-2.06-.94-.94-2.06-.94 2.06-2.06.94zm-11 1L8.5 8.5l.94-2.06 2.06-.94-2.06-.94L8.5 2.5l-.94 2.06-2.06.94zm10 10l.94 2.06.94-2.06 2.06-.94-2.06-.94-.94-2.06-.94 2.06-2.06.94z\"/><path d=\"M17.41 7.96l-1.37-1.37c-.4-.4-.92-.59-1.43-.59-.52 0-1.04.2-1.43.59L10.3 9.45l-7.72 7.72c-.78.78-.78 2.05 0 2.83L4 21.41c.39.39.9.59 1.41.59.51 0 1.02-.2 1.41-.59l7.78-7.78 2.81-2.81c.8-.78.8-2.07 0-2.86zM5.41 20L4 18.59l7.72-7.72 1.47 1.35L5.41 20z\"/>\n",
              "  </svg>\n",
              "      </button>\n",
              "      \n",
              "  <style>\n",
              "    .colab-df-container {\n",
              "      display:flex;\n",
              "      flex-wrap:wrap;\n",
              "      gap: 12px;\n",
              "    }\n",
              "\n",
              "    .colab-df-convert {\n",
              "      background-color: #E8F0FE;\n",
              "      border: none;\n",
              "      border-radius: 50%;\n",
              "      cursor: pointer;\n",
              "      display: none;\n",
              "      fill: #1967D2;\n",
              "      height: 32px;\n",
              "      padding: 0 0 0 0;\n",
              "      width: 32px;\n",
              "    }\n",
              "\n",
              "    .colab-df-convert:hover {\n",
              "      background-color: #E2EBFA;\n",
              "      box-shadow: 0px 1px 2px rgba(60, 64, 67, 0.3), 0px 1px 3px 1px rgba(60, 64, 67, 0.15);\n",
              "      fill: #174EA6;\n",
              "    }\n",
              "\n",
              "    [theme=dark] .colab-df-convert {\n",
              "      background-color: #3B4455;\n",
              "      fill: #D2E3FC;\n",
              "    }\n",
              "\n",
              "    [theme=dark] .colab-df-convert:hover {\n",
              "      background-color: #434B5C;\n",
              "      box-shadow: 0px 1px 3px 1px rgba(0, 0, 0, 0.15);\n",
              "      filter: drop-shadow(0px 1px 2px rgba(0, 0, 0, 0.3));\n",
              "      fill: #FFFFFF;\n",
              "    }\n",
              "  </style>\n",
              "\n",
              "      <script>\n",
              "        const buttonEl =\n",
              "          document.querySelector('#df-2c2dcf67-094f-4c7e-8647-7f923e85b245 button.colab-df-convert');\n",
              "        buttonEl.style.display =\n",
              "          google.colab.kernel.accessAllowed ? 'block' : 'none';\n",
              "\n",
              "        async function convertToInteractive(key) {\n",
              "          const element = document.querySelector('#df-2c2dcf67-094f-4c7e-8647-7f923e85b245');\n",
              "          const dataTable =\n",
              "            await google.colab.kernel.invokeFunction('convertToInteractive',\n",
              "                                                     [key], {});\n",
              "          if (!dataTable) return;\n",
              "\n",
              "          const docLinkHtml = 'Like what you see? Visit the ' +\n",
              "            '<a target=\"_blank\" href=https://colab.research.google.com/notebooks/data_table.ipynb>data table notebook</a>'\n",
              "            + ' to learn more about interactive tables.';\n",
              "          element.innerHTML = '';\n",
              "          dataTable['output_type'] = 'display_data';\n",
              "          await google.colab.output.renderOutput(dataTable, element);\n",
              "          const docLink = document.createElement('div');\n",
              "          docLink.innerHTML = docLinkHtml;\n",
              "          element.appendChild(docLink);\n",
              "        }\n",
              "      </script>\n",
              "    </div>\n",
              "  </div>\n",
              "  "
            ]
          },
          "metadata": {},
          "execution_count": 16
        }
      ]
    },
    {
      "cell_type": "code",
      "source": [
        "# Exporting to csv\n",
        "\n",
        "df.to_csv('spacex_web_scraped.csv', index=False)"
      ],
      "metadata": {
        "id": "mrCSRLGizaTV"
      },
      "execution_count": null,
      "outputs": []
    }
  ],
  "metadata": {
    "kernelspec": {
      "name": "python3",
      "display_name": "Python 3.9",
      "language": "python"
    },
    "language_info": {
      "name": "python",
      "version": "3.9.12",
      "mimetype": "text/x-python",
      "codemirror_mode": {
        "name": "ipython",
        "version": 3
      },
      "pygments_lexer": "ipython3",
      "nbconvert_exporter": "python",
      "file_extension": ".py"
    },
    "colab": {
      "provenance": [],
      "collapsed_sections": []
    }
  },
  "nbformat": 4,
  "nbformat_minor": 0
}